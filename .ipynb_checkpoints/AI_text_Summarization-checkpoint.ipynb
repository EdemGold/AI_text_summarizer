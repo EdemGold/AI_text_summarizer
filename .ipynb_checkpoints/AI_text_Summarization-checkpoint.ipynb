{
 "cells": [
  {
   "cell_type": "markdown",
   "id": "807e6b0a",
   "metadata": {},
   "source": [
    "# Installing Transformers and importing Dependancies"
   ]
  },
  {
   "cell_type": "code",
   "execution_count": 1,
   "id": "c12c7d22",
   "metadata": {},
   "outputs": [],
   "source": [
    "#already installed transformers library using rterminal"
   ]
  },
  {
   "cell_type": "code",
   "execution_count": null,
   "id": "e3dfda94",
   "metadata": {},
   "outputs": [],
   "source": [
    "from transformers import pipeline"
   ]
  },
  {
   "cell_type": "markdown",
   "id": "08e1c4a1",
   "metadata": {},
   "source": [
    "# Load Summarization Pipeline"
   ]
  },
  {
   "cell_type": "code",
   "execution_count": null,
   "id": "65d36ba7",
   "metadata": {},
   "outputs": [],
   "source": [
    "summarizer = pipeline('summa')"
   ]
  },
  {
   "cell_type": "markdown",
   "id": "ceb352dd",
   "metadata": {},
   "source": []
  },
  {
   "cell_type": "markdown",
   "id": "9265639f",
   "metadata": {},
   "source": [
    "# Summarize Text"
   ]
  },
  {
   "cell_type": "code",
   "execution_count": null,
   "id": "1306daff",
   "metadata": {},
   "outputs": [],
   "source": []
  }
 ],
 "metadata": {
  "kernelspec": {
   "display_name": "Python 3",
   "language": "python",
   "name": "python3"
  },
  "language_info": {
   "codemirror_mode": {
    "name": "ipython",
    "version": 3
   },
   "file_extension": ".py",
   "mimetype": "text/x-python",
   "name": "python",
   "nbconvert_exporter": "python",
   "pygments_lexer": "ipython3",
   "version": "3.8.8"
  }
 },
 "nbformat": 4,
 "nbformat_minor": 5
}
